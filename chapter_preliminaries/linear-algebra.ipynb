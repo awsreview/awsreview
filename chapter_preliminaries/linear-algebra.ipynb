{
  "cells": [
    {
      "cell_type": "markdown",
      "metadata": {
        "id": "ytIPpF_aSffa"
      },
      "source": [
        "The following additional libraries are needed to run this\n",
        "notebook. Note that running on Colab is experimental, please report a Github\n",
        "issue if you have any problem."
      ]
    },
    {
      "cell_type": "code",
      "execution_count": 5,
      "metadata": {
        "colab": {
          "base_uri": "https://localhost:8080/"
        },
        "id": "y82skbskSfff",
        "outputId": "6c49aed0-2344-48da-9d12-8ab8faaa3330"
      },
      "outputs": [
        {
          "output_type": "stream",
          "name": "stdout",
          "text": [
            "Requirement already satisfied: mxnet-cu101==1.7.0 in /usr/local/lib/python3.7/dist-packages (1.7.0)\n",
            "Requirement already satisfied: requests<3,>=2.20.0 in /usr/local/lib/python3.7/dist-packages (from mxnet-cu101==1.7.0) (2.23.0)\n",
            "Requirement already satisfied: graphviz<0.9.0,>=0.8.1 in /usr/local/lib/python3.7/dist-packages (from mxnet-cu101==1.7.0) (0.8.4)\n",
            "Requirement already satisfied: numpy<2.0.0,>1.16.0 in /usr/local/lib/python3.7/dist-packages (from mxnet-cu101==1.7.0) (1.19.5)\n",
            "Requirement already satisfied: chardet<4,>=3.0.2 in /usr/local/lib/python3.7/dist-packages (from requests<3,>=2.20.0->mxnet-cu101==1.7.0) (3.0.4)\n",
            "Requirement already satisfied: certifi>=2017.4.17 in /usr/local/lib/python3.7/dist-packages (from requests<3,>=2.20.0->mxnet-cu101==1.7.0) (2021.10.8)\n",
            "Requirement already satisfied: idna<3,>=2.5 in /usr/local/lib/python3.7/dist-packages (from requests<3,>=2.20.0->mxnet-cu101==1.7.0) (2.10)\n",
            "Requirement already satisfied: urllib3!=1.25.0,!=1.25.1,<1.26,>=1.21.1 in /usr/local/lib/python3.7/dist-packages (from requests<3,>=2.20.0->mxnet-cu101==1.7.0) (1.24.3)\n"
          ]
        }
      ],
      "source": [
        "!pip install -U mxnet-cu101==1.7.0\n"
      ]
    },
    {
      "cell_type": "markdown",
      "metadata": {
        "origin_pos": 0,
        "id": "21MuYmYTSffh"
      },
      "source": [
        "# Linear Algebra\n",
        ":label:`sec_linear-algebra`\n",
        "\n",
        "\n",
        "Now that you can store and manipulate data,\n",
        "let us briefly review the subset of basic linear algebra\n",
        "that you will need to understand and implement\n",
        "most of models covered in this book.\n",
        "Below, we introduce the basic mathematical objects, arithmetic,\n",
        "and operations in linear algebra,\n",
        "expressing each of them through mathematical notation\n",
        "and the corresponding implementation in code.\n",
        "\n",
        "## Scalars\n",
        "\n",
        "If you never studied linear algebra or machine learning,\n",
        "then your past experience with math probably consisted\n",
        "of thinking about one number at a time.\n",
        "And, if you ever balanced a checkbook\n",
        "or even paid for dinner at a restaurant\n",
        "then you already know how to do basic things\n",
        "like adding and multiplying pairs of numbers.\n",
        "For example, the temperature in Palo Alto is $52$ degrees Fahrenheit.\n",
        "Formally, we call values consisting\n",
        "of just one numerical quantity *scalars*.\n",
        "If you wanted to convert this value to Celsius\n",
        "(the metric system's more sensible temperature scale),\n",
        "you would evaluate the expression $c = \\frac{5}{9}(f - 32)$, setting $f$ to $52$.\n",
        "In this equation, each of the terms---$5$, $9$, and $32$---are scalar values.\n",
        "The placeholders $c$ and $f$ are called *variables*\n",
        "and they represent unknown scalar values.\n",
        "\n",
        "In this book, we adopt the mathematical notation\n",
        "where scalar variables are denoted\n",
        "by ordinary lower-cased letters (e.g., $x$, $y$, and $z$).\n",
        "We denote the space of all (continuous) *real-valued* scalars by $\\mathbb{R}$.\n",
        "For expedience, we will punt on rigorous definitions\n",
        "of what precisely *space* is,\n",
        "but just remember for now that the expression $x \\in \\mathbb{R}$\n",
        "is a formal way to say that $x$ is a real-valued scalar.\n",
        "The symbol $\\in$ can be pronounced \"in\"\n",
        "and simply denotes membership in a set.\n",
        "Analogously, we could write $x, y \\in \\{0, 1\\}$\n",
        "to state that $x$ and $y$ are numbers\n",
        "whose value can only be $0$ or $1$.\n",
        "\n",
        "(**A scalar is represented by a tensor with just one element.**)\n",
        "In the next snippet, we instantiate two scalars\n",
        "and perform some familiar arithmetic operations with them,\n",
        "namely addition, multiplication, division, and exponentiation.\n"
      ]
    },
    {
      "cell_type": "code",
      "execution_count": 6,
      "metadata": {
        "origin_pos": 1,
        "tab": [
          "mxnet"
        ],
        "colab": {
          "base_uri": "https://localhost:8080/"
        },
        "id": "6yLXhHb3Sffi",
        "outputId": "9573c655-fbe5-4080-f448-f6c8fc89ea58"
      },
      "outputs": [
        {
          "output_type": "execute_result",
          "data": {
            "text/plain": [
              "(array(5.), array(6.), array(1.5), array(9.))"
            ]
          },
          "metadata": {},
          "execution_count": 6
        }
      ],
      "source": [
        "from mxnet import np, npx\n",
        "import numpy as npo\n",
        "\n",
        "import tensorflow as tf\n",
        "import torch as th\n",
        "\n",
        "npx.set_np()\n",
        "\n",
        "x = np.array(3.0)\n",
        "y = np.array(2.0)\n",
        "\n",
        "x + y, x * y, x / y, x ** y"
      ]
    },
    {
      "cell_type": "markdown",
      "metadata": {
        "origin_pos": 4,
        "id": "fwwd8X77Sffj"
      },
      "source": [
        "## Vectors\n",
        "\n",
        "[**You can think of a vector as simply a list of scalar values.**]\n",
        "We call these values the *elements* (*entries* or *components*) of the vector.\n",
        "When our vectors represent examples from our dataset,\n",
        "their values hold some real-world significance.\n",
        "For example, if we were training a model to predict\n",
        "the risk that a loan defaults,\n",
        "we might associate each applicant with a vector\n",
        "whose components correspond to their income,\n",
        "length of employment, number of previous defaults, and other factors.\n",
        "If we were studying the risk of heart attacks hospital patients potentially face,\n",
        "we might represent each patient by a vector\n",
        "whose components capture their most recent vital signs,\n",
        "cholesterol levels, minutes of exercise per day, etc.\n",
        "In math notation, we will usually denote vectors as bold-faced,\n",
        "lower-cased letters (e.g., $\\mathbf{x}$, $\\mathbf{y}$, and $\\mathbf{z})$.\n",
        "\n",
        "We work with vectors via one-dimensional tensors.\n",
        "In general tensors can have arbitrary lengths,\n",
        "subject to the memory limits of your machine.\n"
      ]
    },
    {
      "cell_type": "code",
      "execution_count": null,
      "metadata": {
        "origin_pos": 5,
        "tab": [
          "mxnet"
        ],
        "id": "yDEUdDhwSffk",
        "outputId": "f029e549-3321-41b8-f701-15d0e5aa3fa4"
      },
      "outputs": [
        {
          "data": {
            "text/plain": [
              "array([0., 1., 2., 3.])"
            ]
          },
          "execution_count": 2,
          "metadata": {},
          "output_type": "execute_result"
        }
      ],
      "source": [
        "x = np.arange(4)\n",
        "x"
      ]
    },
    {
      "cell_type": "markdown",
      "metadata": {
        "origin_pos": 8,
        "id": "g92nDMqFSffl"
      },
      "source": [
        "We can refer to any element of a vector by using a subscript.\n",
        "For example, we can refer to the $i^\\mathrm{th}$ element of $\\mathbf{x}$ by $x_i$.\n",
        "Note that the element $x_i$ is a scalar,\n",
        "so we do not bold-face the font when referring to it.\n",
        "Extensive literature considers column vectors to be the default\n",
        "orientation of vectors, so does this book.\n",
        "In math, a vector $\\mathbf{x}$ can be written as\n",
        "\n",
        "$$\\mathbf{x} =\\begin{bmatrix}x_{1}  \\\\x_{2}  \\\\ \\vdots  \\\\x_{n}\\end{bmatrix},$$\n",
        ":eqlabel:`eq_vec_def`\n",
        "\n",
        "\n",
        "where $x_1, \\ldots, x_n$ are elements of the vector.\n",
        "In code,\n",
        "we (**access any element by indexing into the tensor.**)\n"
      ]
    },
    {
      "cell_type": "code",
      "execution_count": null,
      "metadata": {
        "origin_pos": 9,
        "tab": [
          "mxnet"
        ],
        "id": "LTDlZxJQSffm",
        "outputId": "6a0eddd0-b50c-4134-9cb7-ddf26e509783"
      },
      "outputs": [
        {
          "data": {
            "text/plain": [
              "array(3.)"
            ]
          },
          "execution_count": 3,
          "metadata": {},
          "output_type": "execute_result"
        }
      ],
      "source": [
        "x[3]"
      ]
    },
    {
      "cell_type": "markdown",
      "metadata": {
        "origin_pos": 12,
        "id": "XREF2y9PSffn"
      },
      "source": [
        "### Length, Dimensionality, and Shape\n",
        "\n",
        "Let us revisit some concepts from :numref:`sec_ndarray`.\n",
        "A vector is just an array of numbers.\n",
        "And just as every array has a length, so does every vector.\n",
        "In math notation, if we want to say that a vector $\\mathbf{x}$\n",
        "consists of $n$ real-valued scalars,\n",
        "we can express this as $\\mathbf{x} \\in \\mathbb{R}^n$.\n",
        "The length of a vector is commonly called the *dimension* of the vector.\n",
        "\n",
        "As with an ordinary Python array,\n",
        "we [**can access the length of a tensor**]\n",
        "by calling Python's built-in `len()` function.\n"
      ]
    },
    {
      "cell_type": "code",
      "execution_count": null,
      "metadata": {
        "origin_pos": 13,
        "tab": [
          "mxnet"
        ],
        "id": "K-2hpWRfSffo",
        "outputId": "917eae3b-3566-448a-e9aa-96940764924a"
      },
      "outputs": [
        {
          "data": {
            "text/plain": [
              "4"
            ]
          },
          "execution_count": 4,
          "metadata": {},
          "output_type": "execute_result"
        }
      ],
      "source": [
        "len(x)"
      ]
    },
    {
      "cell_type": "markdown",
      "metadata": {
        "origin_pos": 16,
        "id": "BsuP3Ej4Sffp"
      },
      "source": [
        "When a tensor represents a vector (with precisely one axis),\n",
        "we can also access its length via the `.shape` attribute.\n",
        "The shape is a tuple that lists the length (dimensionality)\n",
        "along each axis of the tensor.\n",
        "(**For tensors with just one axis, the shape has just one element.**)\n"
      ]
    },
    {
      "cell_type": "code",
      "execution_count": null,
      "metadata": {
        "origin_pos": 17,
        "tab": [
          "mxnet"
        ],
        "id": "2PplHaqESffp",
        "outputId": "f0758dbc-2087-48fc-f871-f61fe2cef724"
      },
      "outputs": [
        {
          "data": {
            "text/plain": [
              "(4,)"
            ]
          },
          "execution_count": 5,
          "metadata": {},
          "output_type": "execute_result"
        }
      ],
      "source": [
        "x.shape"
      ]
    },
    {
      "cell_type": "markdown",
      "metadata": {
        "origin_pos": 20,
        "id": "DbQ2chxsSffq"
      },
      "source": [
        "Note that the word \"dimension\" tends to get overloaded\n",
        "in these contexts and this tends to confuse people.\n",
        "To clarify, we use the dimensionality of a *vector* or an *axis*\n",
        "to refer to its length, i.e., the number of elements of a vector or an axis.\n",
        "However, we use the dimensionality of a tensor\n",
        "to refer to the number of axes that a tensor has.\n",
        "In this sense, the dimensionality of some axis of a tensor\n",
        "will be the length of that axis.\n",
        "\n",
        "\n",
        "## Matrices\n",
        "\n",
        "Just as vectors generalize scalars from order zero to order one,\n",
        "matrices generalize vectors from order one to order two.\n",
        "Matrices, which we will typically denote with bold-faced, capital letters\n",
        "(e.g., $\\mathbf{X}$, $\\mathbf{Y}$, and $\\mathbf{Z}$),\n",
        "are represented in code as tensors with two axes.\n",
        "\n",
        "In math notation, we use $\\mathbf{A} \\in \\mathbb{R}^{m \\times n}$\n",
        "to express that the matrix $\\mathbf{A}$ consists of $m$ rows and $n$ columns of real-valued scalars.\n",
        "Visually, we can illustrate any matrix $\\mathbf{A} \\in \\mathbb{R}^{m \\times n}$ as a table,\n",
        "where each element $a_{ij}$ belongs to the $i^{\\mathrm{th}}$ row and $j^{\\mathrm{th}}$ column:\n",
        "\n",
        "$$\\mathbf{A}=\\begin{bmatrix} a_{11} & a_{12} & \\cdots & a_{1n} \\\\ a_{21} & a_{22} & \\cdots & a_{2n} \\\\ \\vdots & \\vdots & \\ddots & \\vdots \\\\ a_{m1} & a_{m2} & \\cdots & a_{mn} \\\\ \\end{bmatrix}.$$\n",
        ":eqlabel:`eq_matrix_def`\n",
        "\n",
        "\n",
        "For any $\\mathbf{A} \\in \\mathbb{R}^{m \\times n}$, the shape of $\\mathbf{A}$\n",
        "is ($m$, $n$) or $m \\times n$.\n",
        "Specifically, when a matrix has the same number of rows and columns,\n",
        "its shape becomes a square; thus, it is called a *square matrix*.\n",
        "\n",
        "We can [**create an $m \\times n$ matrix**]\n",
        "by specifying a shape with two components $m$ and $n$\n",
        "when calling any of our favorite functions for instantiating a tensor.\n"
      ]
    },
    {
      "cell_type": "code",
      "execution_count": 2,
      "metadata": {
        "origin_pos": 21,
        "tab": [
          "mxnet"
        ],
        "colab": {
          "base_uri": "https://localhost:8080/",
          "height": 183
        },
        "id": "biIXBODJSffq",
        "outputId": "37a93ddf-6870-4c2a-f760-2efec6cdc70f"
      },
      "outputs": [
        {
          "output_type": "error",
          "ename": "NameError",
          "evalue": "ignored",
          "traceback": [
            "\u001b[0;31m---------------------------------------------------------------------------\u001b[0m",
            "\u001b[0;31mNameError\u001b[0m                                 Traceback (most recent call last)",
            "\u001b[0;32m<ipython-input-2-c35c35acc4aa>\u001b[0m in \u001b[0;36m<module>\u001b[0;34m()\u001b[0m\n\u001b[0;32m----> 1\u001b[0;31m \u001b[0mA\u001b[0m \u001b[0;34m=\u001b[0m \u001b[0mnp\u001b[0m\u001b[0;34m.\u001b[0m\u001b[0marange\u001b[0m\u001b[0;34m(\u001b[0m\u001b[0;36m20\u001b[0m\u001b[0;34m)\u001b[0m\u001b[0;34m.\u001b[0m\u001b[0mreshape\u001b[0m\u001b[0;34m(\u001b[0m\u001b[0;36m5\u001b[0m\u001b[0;34m,\u001b[0m \u001b[0;36m4\u001b[0m\u001b[0;34m)\u001b[0m\u001b[0;34m\u001b[0m\u001b[0;34m\u001b[0m\u001b[0m\n\u001b[0m\u001b[1;32m      2\u001b[0m \u001b[0mA\u001b[0m\u001b[0;34m\u001b[0m\u001b[0;34m\u001b[0m\u001b[0m\n",
            "\u001b[0;31mNameError\u001b[0m: name 'np' is not defined"
          ]
        }
      ],
      "source": [
        "A = np.arange(20).reshape(5, 4)\n",
        "A"
      ]
    },
    {
      "cell_type": "markdown",
      "metadata": {
        "origin_pos": 24,
        "id": "Phdb0_9jSffr"
      },
      "source": [
        "We can access the scalar element $a_{ij}$ of a matrix $\\mathbf{A}$ in :eqref:`eq_matrix_def`\n",
        "by specifying the indices for the row ($i$) and column ($j$),\n",
        "such as $[\\mathbf{A}]_{ij}$.\n",
        "When the scalar elements of a matrix $\\mathbf{A}$, such as in :eqref:`eq_matrix_def`, are not given,\n",
        "we may simply use the lower-case letter of the matrix $\\mathbf{A}$ with the index subscript, $a_{ij}$,\n",
        "to refer to $[\\mathbf{A}]_{ij}$.\n",
        "To keep notation simple, commas are inserted to separate indices only when necessary,\n",
        "such as $a_{2, 3j}$ and $[\\mathbf{A}]_{2i-1, 3}$.\n",
        "\n",
        "\n",
        "Sometimes, we want to flip the axes.\n",
        "When we exchange a matrix's rows and columns,\n",
        "the result is called the *transpose* of the matrix.\n",
        "Formally, we signify a matrix $\\mathbf{A}$'s transpose by $\\mathbf{A}^\\top$\n",
        "and if $\\mathbf{B} = \\mathbf{A}^\\top$, then $b_{ij} = a_{ji}$ for any $i$ and $j$.\n",
        "Thus, the transpose of $\\mathbf{A}$ in :eqref:`eq_matrix_def` is\n",
        "a $n \\times m$ matrix:\n",
        "\n",
        "$$\n",
        "\\mathbf{A}^\\top =\n",
        "\\begin{bmatrix}\n",
        "    a_{11} & a_{21} & \\dots  & a_{m1} \\\\\n",
        "    a_{12} & a_{22} & \\dots  & a_{m2} \\\\\n",
        "    \\vdots & \\vdots & \\ddots  & \\vdots \\\\\n",
        "    a_{1n} & a_{2n} & \\dots  & a_{mn}\n",
        "\\end{bmatrix}.\n",
        "$$\n",
        "\n",
        "Now we access a (**matrix's transpose**) in code.\n"
      ]
    },
    {
      "cell_type": "code",
      "execution_count": null,
      "metadata": {
        "origin_pos": 25,
        "tab": [
          "mxnet"
        ],
        "id": "Kh_oFan9Sffr",
        "outputId": "174beb93-4875-41ed-b0d7-640d1e346eee"
      },
      "outputs": [
        {
          "data": {
            "text/plain": [
              "array([[ 0.,  4.,  8., 12., 16.],\n",
              "       [ 1.,  5.,  9., 13., 17.],\n",
              "       [ 2.,  6., 10., 14., 18.],\n",
              "       [ 3.,  7., 11., 15., 19.]])"
            ]
          },
          "execution_count": 7,
          "metadata": {},
          "output_type": "execute_result"
        }
      ],
      "source": [
        "A.T"
      ]
    },
    {
      "cell_type": "markdown",
      "metadata": {
        "origin_pos": 28,
        "id": "Eiv-l5xcSffs"
      },
      "source": [
        "As a special type of the square matrix,\n",
        "[**a *symmetric matrix* $\\mathbf{A}$ is equal to its transpose:\n",
        "$\\mathbf{A} = \\mathbf{A}^\\top$.**]\n",
        "Here we define a symmetric matrix `B`.\n"
      ]
    },
    {
      "cell_type": "code",
      "execution_count": null,
      "metadata": {
        "origin_pos": 29,
        "tab": [
          "mxnet"
        ],
        "id": "S5b--L-1Sffs",
        "outputId": "6b9bc256-9c7d-4ed4-eff1-6a64487659c8"
      },
      "outputs": [
        {
          "data": {
            "text/plain": [
              "array([[1., 2., 3.],\n",
              "       [2., 0., 4.],\n",
              "       [3., 4., 5.]])"
            ]
          },
          "execution_count": 8,
          "metadata": {},
          "output_type": "execute_result"
        }
      ],
      "source": [
        "B = np.array([[1, 2, 3], [2, 0, 4], [3, 4, 5]])\n",
        "B"
      ]
    },
    {
      "cell_type": "markdown",
      "metadata": {
        "origin_pos": 32,
        "id": "r1IFbb9uSffs"
      },
      "source": [
        "Now we compare `B` with its transpose.\n"
      ]
    },
    {
      "cell_type": "code",
      "execution_count": null,
      "metadata": {
        "origin_pos": 33,
        "tab": [
          "mxnet"
        ],
        "id": "3EepZ9bnSfft",
        "outputId": "3599a970-75d8-4703-cad7-c0b17399e4e7"
      },
      "outputs": [
        {
          "data": {
            "text/plain": [
              "array([[ True,  True,  True],\n",
              "       [ True,  True,  True],\n",
              "       [ True,  True,  True]])"
            ]
          },
          "execution_count": 9,
          "metadata": {},
          "output_type": "execute_result"
        }
      ],
      "source": [
        "B == B.T"
      ]
    },
    {
      "cell_type": "markdown",
      "metadata": {
        "origin_pos": 36,
        "id": "gmLJP5fhSfft"
      },
      "source": [
        "Matrices are useful data structures:\n",
        "they allow us to organize data that have different modalities of variation.\n",
        "For example, rows in our matrix might correspond to different houses (data examples),\n",
        "while columns might correspond to different attributes.\n",
        "This should sound familiar if you have ever used spreadsheet software or\n",
        "have read :numref:`sec_pandas`.\n",
        "Thus, although the default orientation of a single vector is a column vector,\n",
        "in a matrix that represents a tabular dataset,\n",
        "it is more conventional to treat each data example as a row vector in the matrix.\n",
        "And, as we will see in later chapters,\n",
        "this convention will enable common deep learning practices.\n",
        "For example, along the outermost axis of a tensor,\n",
        "we can access or enumerate minibatches of data examples,\n",
        "or just data examples if no minibatch exists.\n",
        "\n",
        "\n",
        "## Tensors\n",
        "\n",
        "Just as vectors generalize scalars, and matrices generalize vectors, we can build data structures with even more axes.\n",
        "[**Tensors**]\n",
        "(\"tensors\" in this subsection refer to algebraic objects)\n",
        "(**give us a generic way of describing $n$-dimensional arrays with an arbitrary number of axes.**)\n",
        "Vectors, for example, are first-order tensors, and matrices are second-order tensors.\n",
        "Tensors are denoted with capital letters of a special font face\n",
        "(e.g., $\\mathsf{X}$, $\\mathsf{Y}$, and $\\mathsf{Z}$)\n",
        "and their indexing mechanism (e.g., $x_{ijk}$ and $[\\mathsf{X}]_{1, 2i-1, 3}$) is similar to that of matrices.\n",
        "\n",
        "Tensors will become more important when we start working with images,\n",
        " which arrive as $n$-dimensional arrays with 3 axes corresponding to the height, width, and a *channel* axis for stacking the color channels (red, green, and blue). For now, we will skip over higher order tensors and focus on the basics.\n"
      ]
    },
    {
      "cell_type": "code",
      "execution_count": null,
      "metadata": {
        "origin_pos": 37,
        "tab": [
          "mxnet"
        ],
        "id": "MOWk5OecSffu",
        "outputId": "c1e1a329-7674-495c-c47e-0307af70868a"
      },
      "outputs": [
        {
          "data": {
            "text/plain": [
              "array([[[ 0.,  1.,  2.,  3.],\n",
              "        [ 4.,  5.,  6.,  7.],\n",
              "        [ 8.,  9., 10., 11.]],\n",
              "\n",
              "       [[12., 13., 14., 15.],\n",
              "        [16., 17., 18., 19.],\n",
              "        [20., 21., 22., 23.]]])"
            ]
          },
          "execution_count": 10,
          "metadata": {},
          "output_type": "execute_result"
        }
      ],
      "source": [
        "X = np.arange(24).reshape(2, 3, 4)\n",
        "X"
      ]
    },
    {
      "cell_type": "markdown",
      "metadata": {
        "origin_pos": 40,
        "id": "wYvEaZPkSffu"
      },
      "source": [
        "## Basic Properties of Tensor Arithmetic\n",
        "\n",
        "Scalars, vectors, matrices, and tensors (\"tensors\" in this subsection refer to algebraic objects)\n",
        "of an arbitrary number of axes\n",
        "have some nice properties that often come in handy.\n",
        "For example, you might have noticed\n",
        "from the definition of an elementwise operation\n",
        "that any elementwise unary operation does not change the shape of its operand.\n",
        "Similarly,\n",
        "[**given any two tensors with the same shape,\n",
        "the result of any binary elementwise operation\n",
        "will be a tensor of that same shape.**]\n",
        "For example, adding two matrices of the same shape\n",
        "performs elementwise addition over these two matrices.\n"
      ]
    },
    {
      "cell_type": "code",
      "execution_count": null,
      "metadata": {
        "origin_pos": 41,
        "tab": [
          "mxnet"
        ],
        "id": "hMgnwF7hSffv",
        "outputId": "4e5d7de5-8d44-4b72-c72d-5258eff24700"
      },
      "outputs": [
        {
          "data": {
            "text/plain": [
              "(array([[ 0.,  1.,  2.,  3.],\n",
              "        [ 4.,  5.,  6.,  7.],\n",
              "        [ 8.,  9., 10., 11.],\n",
              "        [12., 13., 14., 15.],\n",
              "        [16., 17., 18., 19.]]),\n",
              " array([[ 0.,  2.,  4.,  6.],\n",
              "        [ 8., 10., 12., 14.],\n",
              "        [16., 18., 20., 22.],\n",
              "        [24., 26., 28., 30.],\n",
              "        [32., 34., 36., 38.]]))"
            ]
          },
          "execution_count": 11,
          "metadata": {},
          "output_type": "execute_result"
        }
      ],
      "source": [
        "A = np.arange(20).reshape(5, 4)\n",
        "B = A.copy()  # Assign a copy of `A` to `B` by allocating new memory\n",
        "A, A + B"
      ]
    },
    {
      "cell_type": "markdown",
      "metadata": {
        "origin_pos": 44,
        "id": "CPJIQGf5Sffv"
      },
      "source": [
        "Specifically,\n",
        "[**elementwise multiplication of two matrices is called their *Hadamard product***]\n",
        "(math notation $\\odot$).\n",
        "Consider matrix $\\mathbf{B} \\in \\mathbb{R}^{m \\times n}$ whose element of row $i$ and column $j$ is $b_{ij}$. The Hadamard product of matrices $\\mathbf{A}$ (defined in :eqref:`eq_matrix_def`) and $\\mathbf{B}$\n",
        "\n",
        "$$\n",
        "\\mathbf{A} \\odot \\mathbf{B} =\n",
        "\\begin{bmatrix}\n",
        "    a_{11}  b_{11} & a_{12}  b_{12} & \\dots  & a_{1n}  b_{1n} \\\\\n",
        "    a_{21}  b_{21} & a_{22}  b_{22} & \\dots  & a_{2n}  b_{2n} \\\\\n",
        "    \\vdots & \\vdots & \\ddots & \\vdots \\\\\n",
        "    a_{m1}  b_{m1} & a_{m2}  b_{m2} & \\dots  & a_{mn}  b_{mn}\n",
        "\\end{bmatrix}.\n",
        "$$\n"
      ]
    },
    {
      "cell_type": "code",
      "execution_count": null,
      "metadata": {
        "origin_pos": 45,
        "tab": [
          "mxnet"
        ],
        "id": "asZLulPlSffv",
        "outputId": "fcb95856-d859-45de-bc4b-491466f5d4f9"
      },
      "outputs": [
        {
          "data": {
            "text/plain": [
              "array([[  0.,   1.,   4.,   9.],\n",
              "       [ 16.,  25.,  36.,  49.],\n",
              "       [ 64.,  81., 100., 121.],\n",
              "       [144., 169., 196., 225.],\n",
              "       [256., 289., 324., 361.]])"
            ]
          },
          "execution_count": 12,
          "metadata": {},
          "output_type": "execute_result"
        }
      ],
      "source": [
        "A * B"
      ]
    },
    {
      "cell_type": "markdown",
      "metadata": {
        "origin_pos": 48,
        "id": "JuGp5aaRSffw"
      },
      "source": [
        "[**Multiplying or adding a tensor by a scalar**] also does not change the shape of the tensor,\n",
        "where each element of the operand tensor will be added or multiplied by the scalar.\n"
      ]
    },
    {
      "cell_type": "code",
      "execution_count": null,
      "metadata": {
        "origin_pos": 49,
        "tab": [
          "mxnet"
        ],
        "id": "_MUDnJ4GSffw",
        "outputId": "5014e5b5-b354-4e4e-cb85-e5fe73f5d812"
      },
      "outputs": [
        {
          "data": {
            "text/plain": [
              "(array([[[ 2.,  3.,  4.,  5.],\n",
              "         [ 6.,  7.,  8.,  9.],\n",
              "         [10., 11., 12., 13.]],\n",
              " \n",
              "        [[14., 15., 16., 17.],\n",
              "         [18., 19., 20., 21.],\n",
              "         [22., 23., 24., 25.]]]),\n",
              " (2, 3, 4))"
            ]
          },
          "execution_count": 13,
          "metadata": {},
          "output_type": "execute_result"
        }
      ],
      "source": [
        "a = 2\n",
        "X = np.arange(24).reshape(2, 3, 4)\n",
        "a + X, (a * X).shape"
      ]
    },
    {
      "cell_type": "markdown",
      "metadata": {
        "origin_pos": 52,
        "id": "nxZeMtx6Sffw"
      },
      "source": [
        "## Reduction\n",
        ":label:`subseq_lin-alg-reduction`\n",
        "\n",
        "One useful operation that we can perform with arbitrary tensors\n",
        "is to\n",
        "calculate [**the sum of their elements.**]\n",
        "In mathematical notation, we express sums using the $\\sum$ symbol.\n",
        "To express the sum of the elements in a vector $\\mathbf{x}$ of length $d$,\n",
        "we write $\\sum_{i=1}^d x_i$.\n",
        "In code, we can just call the function for calculating the sum.\n"
      ]
    },
    {
      "cell_type": "code",
      "execution_count": null,
      "metadata": {
        "origin_pos": 53,
        "tab": [
          "mxnet"
        ],
        "id": "kxVyfUgHSffw",
        "outputId": "8abb3548-7313-4586-fe42-d7e4e58293f9"
      },
      "outputs": [
        {
          "data": {
            "text/plain": [
              "(array([0., 1., 2., 3.]), array(6.))"
            ]
          },
          "execution_count": 14,
          "metadata": {},
          "output_type": "execute_result"
        }
      ],
      "source": [
        "x = np.arange(4)\n",
        "x, x.sum()"
      ]
    },
    {
      "cell_type": "markdown",
      "metadata": {
        "origin_pos": 56,
        "id": "Zm_uiFeISffx"
      },
      "source": [
        "We can express [**sums over the elements of tensors of arbitrary shape.**]\n",
        "For example, the sum of the elements of an $m \\times n$ matrix $\\mathbf{A}$ could be written $\\sum_{i=1}^{m} \\sum_{j=1}^{n} a_{ij}$.\n"
      ]
    },
    {
      "cell_type": "code",
      "execution_count": null,
      "metadata": {
        "origin_pos": 57,
        "tab": [
          "mxnet"
        ],
        "id": "bCwqaevQSffx",
        "outputId": "98ee9956-b019-4296-b325-569e7a136e29"
      },
      "outputs": [
        {
          "data": {
            "text/plain": [
              "((5, 4), array(190.))"
            ]
          },
          "execution_count": 15,
          "metadata": {},
          "output_type": "execute_result"
        }
      ],
      "source": [
        "A.shape, A.sum()"
      ]
    },
    {
      "cell_type": "markdown",
      "metadata": {
        "origin_pos": 60,
        "id": "XbRB6Q6eSffx"
      },
      "source": [
        "By default, invoking the function for calculating the sum\n",
        "*reduces* a tensor along all its axes to a scalar.\n",
        "We can also [**specify the axes along which the tensor is reduced via summation.**]\n",
        "Take matrices as an example.\n",
        "To reduce the row dimension (axis 0) by summing up elements of all the rows,\n",
        "we specify `axis=0` when invoking the function.\n",
        "Since the input matrix reduces along axis 0 to generate the output vector,\n",
        "the dimension of axis 0 of the input is lost in the output shape.\n"
      ]
    },
    {
      "cell_type": "code",
      "execution_count": null,
      "metadata": {
        "origin_pos": 61,
        "tab": [
          "mxnet"
        ],
        "id": "HoXRSyg9Sffx",
        "outputId": "59bf789d-d0cc-4d32-b5e9-b848aa2a3ef3"
      },
      "outputs": [
        {
          "data": {
            "text/plain": [
              "(array([40., 45., 50., 55.]), (4,))"
            ]
          },
          "execution_count": 16,
          "metadata": {},
          "output_type": "execute_result"
        }
      ],
      "source": [
        "A_sum_axis0 = A.sum(axis=0)\n",
        "A_sum_axis0, A_sum_axis0.shape"
      ]
    },
    {
      "cell_type": "markdown",
      "metadata": {
        "origin_pos": 64,
        "id": "C30Pf4nOSffy"
      },
      "source": [
        "Specifying\n",
        "`axis=1` will reduce the column dimension (axis 1) by summing up elements of all the columns.\n",
        "Thus, the dimension of axis 1 of the input is lost in the output shape.\n"
      ]
    },
    {
      "cell_type": "code",
      "execution_count": null,
      "metadata": {
        "origin_pos": 65,
        "tab": [
          "mxnet"
        ],
        "id": "fD0v700kSffy",
        "outputId": "d367e921-1074-4c32-d0f5-92a486a61dc1"
      },
      "outputs": [
        {
          "data": {
            "text/plain": [
              "(array([ 6., 22., 38., 54., 70.]), (5,))"
            ]
          },
          "execution_count": 17,
          "metadata": {},
          "output_type": "execute_result"
        }
      ],
      "source": [
        "A_sum_axis1 = A.sum(axis=1)\n",
        "A_sum_axis1, A_sum_axis1.shape"
      ]
    },
    {
      "cell_type": "markdown",
      "metadata": {
        "origin_pos": 68,
        "id": "-pGpH1M1Sffy"
      },
      "source": [
        "Reducing a matrix along both rows and columns via summation\n",
        "is equivalent to summing up all the elements of the matrix.\n"
      ]
    },
    {
      "cell_type": "code",
      "execution_count": null,
      "metadata": {
        "origin_pos": 69,
        "tab": [
          "mxnet"
        ],
        "id": "XxeSiQkESffy",
        "outputId": "7ed3414c-2ca1-4375-9e31-dba8f99076c6"
      },
      "outputs": [
        {
          "data": {
            "text/plain": [
              "array(190.)"
            ]
          },
          "execution_count": 18,
          "metadata": {},
          "output_type": "execute_result"
        }
      ],
      "source": [
        "A.sum(axis=[0, 1])  # Same as `A.sum()`"
      ]
    },
    {
      "cell_type": "markdown",
      "metadata": {
        "origin_pos": 72,
        "id": "AZpEqHU-Sffz"
      },
      "source": [
        "[**A related quantity is the *mean*, which is also called the *average*.**]\n",
        "We calculate the mean by dividing the sum by the total number of elements.\n",
        "In code, we could just call the function for calculating the mean\n",
        "on tensors of arbitrary shape.\n"
      ]
    },
    {
      "cell_type": "code",
      "execution_count": null,
      "metadata": {
        "origin_pos": 73,
        "tab": [
          "mxnet"
        ],
        "id": "X55z7kJ4Sffz",
        "outputId": "18422a3d-111e-4c20-8210-ad2c20d5b15a"
      },
      "outputs": [
        {
          "data": {
            "text/plain": [
              "(array(9.5), array(9.5))"
            ]
          },
          "execution_count": 19,
          "metadata": {},
          "output_type": "execute_result"
        }
      ],
      "source": [
        "A.mean(), A.sum() / A.size"
      ]
    },
    {
      "cell_type": "markdown",
      "metadata": {
        "origin_pos": 76,
        "id": "LVmJP1B9Sffz"
      },
      "source": [
        "Likewise, the function for calculating the mean can also reduce a tensor along the specified axes.\n"
      ]
    },
    {
      "cell_type": "code",
      "execution_count": null,
      "metadata": {
        "origin_pos": 77,
        "tab": [
          "mxnet"
        ],
        "id": "M8G0P9hZSffz",
        "outputId": "4e5e1592-0e70-4e57-ed05-f266351806fc"
      },
      "outputs": [
        {
          "data": {
            "text/plain": [
              "(array([ 8.,  9., 10., 11.]), array([ 8.,  9., 10., 11.]))"
            ]
          },
          "execution_count": 20,
          "metadata": {},
          "output_type": "execute_result"
        }
      ],
      "source": [
        "A.mean(axis=0), A.sum(axis=0) / A.shape[0]"
      ]
    },
    {
      "cell_type": "markdown",
      "metadata": {
        "origin_pos": 80,
        "id": "cMkEyUXLSff0"
      },
      "source": [
        "### Non-Reduction Sum\n",
        ":label:`subseq_lin-alg-non-reduction`\n",
        "\n",
        "However,\n",
        "sometimes it can be useful to [**keep the number of axes unchanged**]\n",
        "when invoking the function for calculating the sum or mean.\n"
      ]
    },
    {
      "cell_type": "code",
      "execution_count": null,
      "metadata": {
        "origin_pos": 81,
        "tab": [
          "mxnet"
        ],
        "id": "ul2x-1m7Sff0",
        "outputId": "96e53a25-187c-4602-d163-f3cc7711df15"
      },
      "outputs": [
        {
          "data": {
            "text/plain": [
              "array([[ 6.],\n",
              "       [22.],\n",
              "       [38.],\n",
              "       [54.],\n",
              "       [70.]])"
            ]
          },
          "execution_count": 21,
          "metadata": {},
          "output_type": "execute_result"
        }
      ],
      "source": [
        "sum_A = A.sum(axis=1, keepdims=True)\n",
        "sum_A"
      ]
    },
    {
      "cell_type": "markdown",
      "metadata": {
        "origin_pos": 84,
        "id": "y39fpO8ySff0"
      },
      "source": [
        "For instance,\n",
        "since `sum_A` still keeps its two axes after summing each row, we can (**divide `A` by `sum_A` with broadcasting.**)\n"
      ]
    },
    {
      "cell_type": "code",
      "execution_count": null,
      "metadata": {
        "origin_pos": 85,
        "tab": [
          "mxnet"
        ],
        "id": "I33rqtY6Sff0",
        "outputId": "faa8e44f-9390-4fa9-ea35-c58ef7d46bfb"
      },
      "outputs": [
        {
          "data": {
            "text/plain": [
              "array([[0.        , 0.16666667, 0.33333334, 0.5       ],\n",
              "       [0.18181819, 0.22727273, 0.27272728, 0.3181818 ],\n",
              "       [0.21052632, 0.23684211, 0.2631579 , 0.28947368],\n",
              "       [0.22222222, 0.24074075, 0.25925925, 0.2777778 ],\n",
              "       [0.22857143, 0.24285714, 0.25714287, 0.27142859]])"
            ]
          },
          "execution_count": 22,
          "metadata": {},
          "output_type": "execute_result"
        }
      ],
      "source": [
        "A / sum_A"
      ]
    },
    {
      "cell_type": "markdown",
      "metadata": {
        "origin_pos": 88,
        "id": "PvswgiPCSff0"
      },
      "source": [
        "If we want to calculate [**the cumulative sum of elements of `A` along some axis**], say `axis=0` (row by row),\n",
        "we can call the `cumsum` function. This function will not reduce the input tensor along any axis.\n"
      ]
    },
    {
      "cell_type": "code",
      "execution_count": null,
      "metadata": {
        "origin_pos": 89,
        "tab": [
          "mxnet"
        ],
        "id": "NaRlzJa1Sff1",
        "outputId": "fc87a637-fecd-4e51-90da-f95e2748e9fe"
      },
      "outputs": [
        {
          "data": {
            "text/plain": [
              "array([[ 0.,  1.,  2.,  3.],\n",
              "       [ 4.,  6.,  8., 10.],\n",
              "       [12., 15., 18., 21.],\n",
              "       [24., 28., 32., 36.],\n",
              "       [40., 45., 50., 55.]])"
            ]
          },
          "execution_count": 23,
          "metadata": {},
          "output_type": "execute_result"
        }
      ],
      "source": [
        "A.cumsum(axis=0)"
      ]
    },
    {
      "cell_type": "markdown",
      "metadata": {
        "origin_pos": 92,
        "id": "OIk3mQj4Sff1"
      },
      "source": [
        "## Dot Products\n",
        "\n",
        "So far, we have only performed elementwise operations, sums, and averages. And if this was all we could do, linear algebra probably would not deserve its own section. However, one of the most fundamental operations is the dot product.\n",
        "Given two vectors $\\mathbf{x}, \\mathbf{y} \\in \\mathbb{R}^d$, their *dot product* $\\mathbf{x}^\\top \\mathbf{y}$ (or $\\langle \\mathbf{x}, \\mathbf{y}  \\rangle$) is a sum over the products of the elements at the same position: $\\mathbf{x}^\\top \\mathbf{y} = \\sum_{i=1}^{d} x_i y_i$.  \n",
        "\n",
        "a.b = |a| . |b|.cos@ This is the general equation of dor products\n",
        "\n",
        "[~~The *dot product* of two vectors is a sum over the products of the elements at the same position~~]\n"
      ]
    },
    {
      "cell_type": "code",
      "execution_count": 83,
      "metadata": {
        "origin_pos": 93,
        "tab": [
          "mxnet"
        ],
        "colab": {
          "base_uri": "https://localhost:8080/"
        },
        "id": "lAA6FDQKSff1",
        "outputId": "74a35618-0ff1-4475-9749-e5fe9981e927"
      },
      "outputs": [
        {
          "output_type": "stream",
          "name": "stdout",
          "text": [
            "(2, 2) \n",
            " [[4 5]\n",
            " [6 0]] \n",
            " (2, 1) <class 'numpy.ndarray'> <class 'numpy.ndarray'> \n",
            "\n",
            "[[9.]\n",
            " [6.]] \n",
            " 15.0\n",
            "tf.Tensor(\n",
            "[[1]\n",
            " [1]], shape=(2, 1), dtype=int32) tf.Tensor(\n",
            "[[0 1]\n",
            " [2 3]], shape=(2, 2), dtype=int32)\n"
          ]
        },
        {
          "output_type": "execute_result",
          "data": {
            "text/plain": [
              "(<tf.Tensor: shape=(2, 1), dtype=int32, numpy=\n",
              " array([[1],\n",
              "        [5]], dtype=int32)>, TensorShape([2, 1]))"
            ]
          },
          "metadata": {},
          "execution_count": 83
        }
      ],
      "source": [
        "npo.random.seed(0)\n",
        "y = npo.ones(2).reshape(2,1)\n",
        "x = npo.random.randint(0,10,(2,2), dtype='int16')\n",
        "print(x.shape, \"\\n\",x, \"\\n\", y.shape, type(x),  type(y) ,\"\\n\") \n",
        "#a.b = |a|.|b|.cosΘ # general equation of the dot product for two vectors\n",
        "print(npo.dot(x, y), \"\\n\", npo.sum(x*y))\n",
        "print(tf.ones([2,1],dtype=tf.dtypes.int32), tf.reshape(tf.range(4, dtype=tf.int32), (2, 2)) )\n",
        "t = tf.tensordot(tf.reshape(tf.range(4, dtype=tf.int32), (2, 2)) , tf.ones([2,1],dtype=tf.dtypes.int32), axes=1)\n",
        "t, t.shape\n",
        "\n",
        "\n"
      ]
    },
    {
      "cell_type": "markdown",
      "metadata": {
        "origin_pos": 96,
        "id": "rAmsvamNSff1"
      },
      "source": [
        "Note that\n",
        "(**we can express the dot product of two vectors equivalently by performing an elementwise multiplication and then a sum:**)\n"
      ]
    },
    {
      "cell_type": "code",
      "execution_count": 86,
      "metadata": {
        "origin_pos": 97,
        "tab": [
          "mxnet"
        ],
        "colab": {
          "base_uri": "https://localhost:8080/"
        },
        "id": "Mg1juWdGSff2",
        "outputId": "c9a6ebf5-5397-4f96-89b4-6fdb9ab2cc22"
      },
      "outputs": [
        {
          "output_type": "stream",
          "name": "stdout",
          "text": [
            "[1 2 3] [[1]\n",
            " [1]\n",
            " [1]]\n",
            "[1 2 3] [[1 1 1]]\n",
            "\n"
          ]
        },
        {
          "output_type": "execute_result",
          "data": {
            "text/plain": [
              "(6, array([6]))"
            ]
          },
          "metadata": {},
          "execution_count": 86
        }
      ],
      "source": [
        "print(npo.array([1,2,3]) , npo.array([1,1,1]).reshape(3,1))\n",
        "print(npo.array([1,2,3]) , npo.array([1,1,1]).reshape(1,3))\n",
        "print()\n",
        "\n",
        "npo.sum(npo.array([1,2,3]) * npo.array([1,1,1]).reshape(1,3)), npo.dot(npo.array([1,2,3]) , npo.array([1,1,1]).reshape(3,1))"
      ]
    },
    {
      "cell_type": "markdown",
      "metadata": {
        "origin_pos": 100,
        "id": "tkYI4WyfSff2"
      },
      "source": [
        "Dot products are useful in a wide range of contexts.\n",
        "For example, given some set of values,\n",
        "denoted by a vector $\\mathbf{x}  \\in \\mathbb{R}^d$\n",
        "and a set of weights denoted by $\\mathbf{w} \\in \\mathbb{R}^d$,\n",
        "the weighted sum of the values in $\\mathbf{x}$\n",
        "according to the weights $\\mathbf{w}$\n",
        "could be expressed as the dot product $\\mathbf{x}^\\top \\mathbf{w}$.\n",
        "When the weights are non-negative\n",
        "and sum to one (i.e., $\\left(\\sum_{i=1}^{d} {w_i} = 1\\right)$),\n",
        "the dot product expresses a *weighted average*.\n",
        "After normalizing two vectors to have the unit length,\n",
        "the dot products express the cosine of the angle between them.\n",
        "We will formally introduce this notion of *length* later in this section.\n",
        "\n",
        "\n",
        "## Matrix-Vector Products\n",
        "\n",
        "Now that we know how to calculate dot products,\n",
        "we can begin to understand *matrix-vector products*.\n",
        "Recall the matrix $\\mathbf{A} \\in \\mathbb{R}^{m \\times n}$\n",
        "and the vector $\\mathbf{x} \\in \\mathbb{R}^n$\n",
        "defined and visualized in :eqref:`eq_matrix_def` and :eqref:`eq_vec_def` respectively.\n",
        "Let us start off by visualizing the matrix $\\mathbf{A}$ in terms of its row vectors\n",
        "\n",
        "$$\\mathbf{A}=\n",
        "\\begin{bmatrix}\n",
        "\\mathbf{a}^\\top_{1} \\\\\n",
        "\\mathbf{a}^\\top_{2} \\\\\n",
        "\\vdots \\\\\n",
        "\\mathbf{a}^\\top_m \\\\\n",
        "\\end{bmatrix},$$\n",
        "\n",
        "where each $\\mathbf{a}^\\top_{i} \\in \\mathbb{R}^n$\n",
        "is a row vector representing the $i^\\mathrm{th}$ row of the matrix $\\mathbf{A}$.\n",
        "\n",
        "[**The matrix-vector product $\\mathbf{A}\\mathbf{x}$\n",
        "is simply a column vector of length $m$,\n",
        "whose $i^\\mathrm{th}$ element is the dot product $\\mathbf{a}^\\top_i \\mathbf{x}$:**]\n",
        "\n",
        "$$\n",
        "\\mathbf{A}\\mathbf{x}\n",
        "= \\begin{bmatrix}\n",
        "\\mathbf{a}^\\top_{1} \\\\\n",
        "\\mathbf{a}^\\top_{2} \\\\\n",
        "\\vdots \\\\\n",
        "\\mathbf{a}^\\top_m \\\\\n",
        "\\end{bmatrix}\\mathbf{x}\n",
        "= \\begin{bmatrix}\n",
        " \\mathbf{a}^\\top_{1} \\mathbf{x}  \\\\\n",
        " \\mathbf{a}^\\top_{2} \\mathbf{x} \\\\\n",
        "\\vdots\\\\\n",
        " \\mathbf{a}^\\top_{m} \\mathbf{x}\\\\\n",
        "\\end{bmatrix}.\n",
        "$$\n",
        "\n",
        "We can think of multiplication by a matrix $\\mathbf{A}\\in \\mathbb{R}^{m \\times n}$\n",
        "as a transformation that projects vectors\n",
        "from $\\mathbb{R}^{n}$ to $\\mathbb{R}^{m}$.\n",
        "These transformations turn out to be remarkably useful.\n",
        "For example, we can represent rotations\n",
        "as multiplications by a square matrix.\n",
        "As we will see in subsequent chapters,\n",
        "we can also use matrix-vector products\n",
        "to describe the most intensive calculations\n",
        "required when computing each layer in a neural network\n",
        "given the values of the previous layer.\n"
      ]
    },
    {
      "cell_type": "markdown",
      "metadata": {
        "origin_pos": 101,
        "tab": [
          "mxnet"
        ],
        "id": "RaZtYc-_Sff2"
      },
      "source": [
        "Expressing matrix-vector products in code with tensors,\n",
        "we use the same `dot` function as for dot products.\n",
        "When we call `np.dot(A, x)` with a matrix `A` and a vector `x`,\n",
        "the matrix-vector product is performed.\n",
        "Note that the column dimension of `A` (its length along axis 1)\n",
        "must be the same as the dimension of `x` (its length).\n"
      ]
    },
    {
      "cell_type": "code",
      "execution_count": 39,
      "metadata": {
        "origin_pos": 104,
        "tab": [
          "mxnet"
        ],
        "colab": {
          "base_uri": "https://localhost:8080/"
        },
        "id": "Nt0Kf3osSff2",
        "outputId": "1de567c9-77c7-4022-9e6a-f4edb847192f"
      },
      "outputs": [
        {
          "output_type": "stream",
          "name": "stdout",
          "text": [
            "[[0 1 2 3]\n",
            " [4 5 6 7]] \n",
            " [1. 1. 1. 1.]\n",
            "(2, 4) (4,) [ 6. 22.] 28.0\n",
            "tensor\n",
            "tf.Tensor(\n",
            "[[0 1 2 3]\n",
            " [4 5 6 7]], shape=(2, 4), dtype=int32) \n",
            " tf.Tensor([1 1 1 1], shape=(4,), dtype=int32)\n",
            "tf.Tensor([ 6 22], shape=(2,), dtype=int32)\n",
            "tf.Tensor(28, shape=(), dtype=int32)\n",
            "\n",
            "\n",
            "(2, 4) (4,) tf.Tensor([ 6 22], shape=(2,), dtype=int32)\n",
            "torch\n"
          ]
        }
      ],
      "source": [
        "A=npo.arange(8).reshape(2,4)\n",
        "x=npo.ones(4)\n",
        "print(A, \"\\n\", x)\n",
        "print(A.shape, x.shape, npo.dot(A, x), npo.sum(A * x))\n",
        "\n",
        "print(\"tensor\")\n",
        "X = tf.reshape(tf.range(8), (2,4))\n",
        "y = tf.ones(4, dtype=tf.int32)\n",
        "\n",
        "print(X, \"\\n\",y)#, tf.tensordot(X, y, axes=1)\n",
        "print(tf.tensordot(X, y, axes=1))\n",
        "print(tf.reduce_sum(X * y))\n",
        "print(\"\\n\")\n",
        "\n",
        "print(X.shape, y.shape, tf.linalg.matvec(X, y) )#Matrix vector product \n",
        "\n",
        "print(\"torch\")\n",
        "\n"
      ]
    },
    {
      "cell_type": "markdown",
      "metadata": {
        "origin_pos": 107,
        "id": "cPCJUlpWSff2"
      },
      "source": [
        "## Matrix-Matrix Multiplication\n",
        "\n",
        "If you have gotten the hang of dot products and matrix-vector products,\n",
        "then *matrix-matrix multiplication* should be straightforward.\n",
        "\n",
        "Say that we have two matrices $\\mathbf{A} \\in \\mathbb{R}^{n \\times k}$ and $\\mathbf{B} \\in \\mathbb{R}^{k \\times m}$:\n",
        "\n",
        "$$\\mathbf{A}=\\begin{bmatrix}\n",
        " a_{11} & a_{12} & \\cdots & a_{1k} \\\\\n",
        " a_{21} & a_{22} & \\cdots & a_{2k} \\\\\n",
        "\\vdots & \\vdots & \\ddots & \\vdots \\\\\n",
        " a_{n1} & a_{n2} & \\cdots & a_{nk} \\\\\n",
        "\\end{bmatrix},\\quad\n",
        "\\mathbf{B}=\\begin{bmatrix}\n",
        " b_{11} & b_{12} & \\cdots & b_{1m} \\\\\n",
        " b_{21} & b_{22} & \\cdots & b_{2m} \\\\\n",
        "\\vdots & \\vdots & \\ddots & \\vdots \\\\\n",
        " b_{k1} & b_{k2} & \\cdots & b_{km} \\\\\n",
        "\\end{bmatrix}.$$\n",
        "\n",
        "\n",
        "Denote by $\\mathbf{a}^\\top_{i} \\in \\mathbb{R}^k$\n",
        "the row vector representing the $i^\\mathrm{th}$ row of the matrix $\\mathbf{A}$,\n",
        "and let $\\mathbf{b}_{j} \\in \\mathbb{R}^k$\n",
        "be the column vector from the $j^\\mathrm{th}$ column of the matrix $\\mathbf{B}$.\n",
        "To produce the matrix product $\\mathbf{C} = \\mathbf{A}\\mathbf{B}$, it is easiest to think of $\\mathbf{A}$ in terms of its row vectors and $\\mathbf{B}$ in terms of its column vectors:\n",
        "\n",
        "$$\\mathbf{A}=\n",
        "\\begin{bmatrix}\n",
        "\\mathbf{a}^\\top_{1} \\\\\n",
        "\\mathbf{a}^\\top_{2} \\\\\n",
        "\\vdots \\\\\n",
        "\\mathbf{a}^\\top_n \\\\\n",
        "\\end{bmatrix},\n",
        "\\quad \\mathbf{B}=\\begin{bmatrix}\n",
        " \\mathbf{b}_{1} & \\mathbf{b}_{2} & \\cdots & \\mathbf{b}_{m} \\\\\n",
        "\\end{bmatrix}.\n",
        "$$\n",
        "\n",
        "\n",
        "Then the matrix product $\\mathbf{C} \\in \\mathbb{R}^{n \\times m}$ is produced as we simply compute each element $c_{ij}$ as the dot product $\\mathbf{a}^\\top_i \\mathbf{b}_j$:\n",
        "\n",
        "$$\\mathbf{C} = \\mathbf{AB} = \\begin{bmatrix}\n",
        "\\mathbf{a}^\\top_{1} \\\\\n",
        "\\mathbf{a}^\\top_{2} \\\\\n",
        "\\vdots \\\\\n",
        "\\mathbf{a}^\\top_n \\\\\n",
        "\\end{bmatrix}\n",
        "\\begin{bmatrix}\n",
        " \\mathbf{b}_{1} & \\mathbf{b}_{2} & \\cdots & \\mathbf{b}_{m} \\\\\n",
        "\\end{bmatrix}\n",
        "= \\begin{bmatrix}\n",
        "\\mathbf{a}^\\top_{1} \\mathbf{b}_1 & \\mathbf{a}^\\top_{1}\\mathbf{b}_2& \\cdots & \\mathbf{a}^\\top_{1} \\mathbf{b}_m \\\\\n",
        " \\mathbf{a}^\\top_{2}\\mathbf{b}_1 & \\mathbf{a}^\\top_{2} \\mathbf{b}_2 & \\cdots & \\mathbf{a}^\\top_{2} \\mathbf{b}_m \\\\\n",
        " \\vdots & \\vdots & \\ddots &\\vdots\\\\\n",
        "\\mathbf{a}^\\top_{n} \\mathbf{b}_1 & \\mathbf{a}^\\top_{n}\\mathbf{b}_2& \\cdots& \\mathbf{a}^\\top_{n} \\mathbf{b}_m\n",
        "\\end{bmatrix}.\n",
        "$$\n",
        "\n",
        "[**We can think of the matrix-matrix multiplication $\\mathbf{AB}$ as simply performing $m$ matrix-vector products and stitching the results together to form an $n \\times m$ matrix.**]\n",
        "In the following snippet, we perform matrix multiplication on `A` and `B`.\n",
        "Here, `A` is a matrix with 5 rows and 4 columns,\n",
        "and `B` is a matrix with 4 rows and 3 columns.\n",
        "After multiplication, we obtain a matrix with 5 rows and 3 columns.\n"
      ]
    },
    {
      "cell_type": "code",
      "execution_count": null,
      "metadata": {
        "origin_pos": 108,
        "tab": [
          "mxnet"
        ],
        "id": "gruBjiBDSff3",
        "outputId": "bec53760-5e5b-499d-eff7-c55957e7b5e5"
      },
      "outputs": [
        {
          "data": {
            "text/plain": [
              "array([[ 6.,  6.,  6.],\n",
              "       [22., 22., 22.],\n",
              "       [38., 38., 38.],\n",
              "       [54., 54., 54.],\n",
              "       [70., 70., 70.]])"
            ]
          },
          "execution_count": 27,
          "metadata": {},
          "output_type": "execute_result"
        }
      ],
      "source": [
        "B = np.ones(shape=(4, 3))\n",
        "np.dot(A, B)"
      ]
    },
    {
      "cell_type": "markdown",
      "metadata": {
        "origin_pos": 111,
        "id": "aG5fTPBjSff3"
      },
      "source": [
        "Matrix-matrix multiplication can be simply called *matrix multiplication*, and should not be confused with the Hadamard product.\n",
        "\n",
        "\n",
        "## Norms\n",
        ":label:`subsec_lin-algebra-norms`\n",
        "\n",
        "Some of the most useful operators in linear algebra are *norms*.\n",
        "Informally, the norm of a vector tells us how *big* a vector is.\n",
        "The notion of *size* under consideration here\n",
        "concerns not dimensionality\n",
        "but rather the magnitude of the components.\n",
        "\n",
        "In linear algebra, a vector norm is a function $f$ that maps a vector\n",
        "to a scalar, satisfying a handful of properties.\n",
        "Given any vector $\\mathbf{x}$,\n",
        "the first property says\n",
        "that if we scale all the elements of a vector\n",
        "by a constant factor $\\alpha$,\n",
        "its norm also scales by the *absolute value*\n",
        "of the same constant factor:\n",
        "\n",
        "$$f(\\alpha \\mathbf{x}) = |\\alpha| f(\\mathbf{x}).$$\n",
        "\n",
        "\n",
        "The second property is the familiar triangle inequality:\n",
        "\n",
        "$$f(\\mathbf{x} + \\mathbf{y}) \\leq f(\\mathbf{x}) + f(\\mathbf{y}).$$\n",
        "\n",
        "\n",
        "The third property simply says that the norm must be non-negative:\n",
        "\n",
        "$$f(\\mathbf{x}) \\geq 0.$$\n",
        "\n",
        "That makes sense, as in most contexts the smallest *size* for anything is 0.\n",
        "The final property requires that the smallest norm is achieved and only achieved\n",
        "by a vector consisting of all zeros.\n",
        "\n",
        "$$\\forall i, [\\mathbf{x}]_i = 0 \\Leftrightarrow f(\\mathbf{x})=0.$$\n",
        "\n",
        "You might notice that norms sound a lot like measures of distance.\n",
        "And if you remember Euclidean distances\n",
        "(think Pythagoras' theorem) from grade school,\n",
        "then the concepts of non-negativity and the triangle inequality might ring a bell.\n",
        "In fact, the Euclidean distance is a norm:\n",
        "specifically it is the $L_2$ norm.\n",
        "Suppose that the elements in the $n$-dimensional vector\n",
        "$\\mathbf{x}$ are $x_1, \\ldots, x_n$.\n",
        "\n",
        "[**The $L_2$ *norm* of $\\mathbf{x}$ is the square root of the sum of the squares of the vector elements:**]\n",
        "\n",
        "(**$$\\|\\mathbf{x}\\|_2 = \\sqrt{\\sum_{i=1}^n x_i^2},$$**)\n",
        "\n",
        "\n",
        "where the subscript $2$ is often omitted in $L_2$ norms, i.e., $\\|\\mathbf{x}\\|$ is equivalent to $\\|\\mathbf{x}\\|_2$. In code,\n",
        "we can calculate the $L_2$ norm of a vector as follows.\n"
      ]
    },
    {
      "cell_type": "code",
      "execution_count": 40,
      "metadata": {
        "origin_pos": 112,
        "tab": [
          "mxnet"
        ],
        "colab": {
          "base_uri": "https://localhost:8080/"
        },
        "id": "aUYQNJ2FSff4",
        "outputId": "7924b189-0023-4de3-d7ba-d4f58a15af10"
      },
      "outputs": [
        {
          "output_type": "stream",
          "name": "stdout",
          "text": [
            "5.0\n",
            "tf.Tensor(5.0, shape=(), dtype=float32)\n"
          ]
        }
      ],
      "source": [
        "u = npo.array([3, -4])\n",
        "#np.linalg.norm(u)\n",
        "print(npo.linalg.norm(u))\n",
        "u = tf.constant([3.0, -4.0])\n",
        "print(tf.norm(u))\n",
        "#u = torch.tensor([3.0, -4.0])\n",
        "#torch.norm(u)"
      ]
    },
    {
      "cell_type": "markdown",
      "metadata": {
        "origin_pos": 115,
        "id": "00uM1K9CSff4"
      },
      "source": [
        "In deep learning, we work more often\n",
        "with the squared $L_2$ norm.\n",
        "\n",
        "You will also frequently encounter [**the $L_1$ *norm***],\n",
        "which is expressed as the sum of the absolute values of the vector elements:\n",
        "\n",
        "(**$$\\|\\mathbf{x}\\|_1 = \\sum_{i=1}^n \\left|x_i \\right|.$$**)\n",
        "\n",
        "\n",
        "As compared with the $L_2$ norm,\n",
        "it is less influenced by outliers.\n",
        "To calculate the $L_1$ norm, we compose\n",
        "the absolute value function with a sum over the elements.\n"
      ]
    },
    {
      "cell_type": "code",
      "execution_count": 42,
      "metadata": {
        "origin_pos": 116,
        "tab": [
          "mxnet"
        ],
        "colab": {
          "base_uri": "https://localhost:8080/"
        },
        "id": "FjMvmpHSSff4",
        "outputId": "ac578d56-9b02-4e99-f0b0-53638aa87e12"
      },
      "outputs": [
        {
          "output_type": "execute_result",
          "data": {
            "text/plain": [
              "(7.0, <tf.Tensor: shape=(), dtype=float32, numpy=7.0>)"
            ]
          },
          "metadata": {},
          "execution_count": 42
        }
      ],
      "source": [
        "npo.abs(u).sum(), tf.reduce_sum(tf.abs(u))"
      ]
    },
    {
      "cell_type": "markdown",
      "metadata": {
        "origin_pos": 119,
        "id": "tyQMiZDdSff4"
      },
      "source": [
        "Both the $L_2$ norm and the $L_1$ norm\n",
        "are special cases of the more general $L_p$ *norm*:\n",
        "\n",
        "$$\\|\\mathbf{x}\\|_p = \\left(\\sum_{i=1}^n \\left|x_i \\right|^p \\right)^{1/p}.$$\n",
        "\n",
        "Analogous to $L_2$ norms of vectors,\n",
        "[**the *Frobenius norm* of a matrix $\\mathbf{X} \\in \\mathbb{R}^{m \\times n}$**]\n",
        "is the square root of the sum of the squares of the matrix elements:\n",
        "\n",
        "[**$$\\|\\mathbf{X}\\|_F = \\sqrt{\\sum_{i=1}^m \\sum_{j=1}^n x_{ij}^2}.$$**]\n",
        "\n",
        "The Frobenius norm satisfies all the properties of vector norms.\n",
        "It behaves as if it were an $L_2$ norm of a matrix-shaped vector.\n",
        "Invoking the following function will calculate the Frobenius norm of a matrix.\n"
      ]
    },
    {
      "cell_type": "code",
      "execution_count": 43,
      "metadata": {
        "origin_pos": 120,
        "tab": [
          "mxnet"
        ],
        "colab": {
          "base_uri": "https://localhost:8080/"
        },
        "id": "nQ74FeOrSff5",
        "outputId": "f32b9a33-7ac9-4cd1-a018-b382e64d59cb"
      },
      "outputs": [
        {
          "output_type": "execute_result",
          "data": {
            "text/plain": [
              "array(6.)"
            ]
          },
          "metadata": {},
          "execution_count": 43
        }
      ],
      "source": [
        "npo.linalg.norm(np.ones((4, 9)))"
      ]
    },
    {
      "cell_type": "markdown",
      "metadata": {
        "origin_pos": 123,
        "id": "KCr3mEVDSff5"
      },
      "source": [
        "### Norms and Objectives\n",
        ":label:`subsec_norms_and_objectives`\n",
        "\n",
        "While we do not want to get too far ahead of ourselves,\n",
        "we can plant some intuition already about why these concepts are useful.\n",
        "In deep learning, we are often trying to solve optimization problems:\n",
        "*maximize* the probability assigned to observed data;\n",
        "*minimize* the distance between predictions\n",
        "and the ground-truth observations.\n",
        "Assign vector representations to items (like words, products, or news articles)\n",
        "such that the distance between similar items is minimized,\n",
        "and the distance between dissimilar items is maximized.\n",
        "Oftentimes, the objectives, perhaps the most important components\n",
        "of deep learning algorithms (besides the data),\n",
        "are expressed as norms.\n",
        "\n",
        "\n",
        "\n",
        "## More on Linear Algebra\n",
        "\n",
        "In just this section,\n",
        "we have taught you all the linear algebra\n",
        "that you will need to understand\n",
        "a remarkable chunk of modern deep learning.\n",
        "There is a lot more to linear algebra\n",
        "and a lot of that mathematics is useful for machine learning.\n",
        "For example, matrices can be decomposed into factors,\n",
        "and these decompositions can reveal\n",
        "low-dimensional structure in real-world datasets.\n",
        "There are entire subfields of machine learning\n",
        "that focus on using matrix decompositions\n",
        "and their generalizations to high-order tensors\n",
        "to discover structure in datasets and solve prediction problems.\n",
        "But this book focuses on deep learning.\n",
        "And we believe you will be much more inclined to learn more mathematics\n",
        "once you have gotten your hands dirty\n",
        "deploying useful machine learning models on real datasets.\n",
        "So while we reserve the right to introduce more mathematics much later on,\n",
        "we will wrap up this section here.\n",
        "\n",
        "If you are eager to learn more about linear algebra,\n",
        "you may refer to either the\n",
        "[online appendix on linear algebraic operations](https://d2l.ai/chapter_appendix-mathematics-for-deep-learning/geometry-linear-algebraic-ops.html)\n",
        "or other excellent resources :cite:`Strang.1993,Kolter.2008,Petersen.Pedersen.ea.2008`.\n",
        "\n",
        "\n",
        "\n",
        "## Summary\n",
        "\n",
        "* Scalars, vectors, matrices, and tensors are basic mathematical objects in linear algebra.\n",
        "* Vectors generalize scalars, and matrices generalize vectors.\n",
        "* Scalars, vectors, matrices, and tensors have zero, one, two, and an arbitrary number of axes, respectively.\n",
        "* A tensor can be reduced along the specified axes by `sum` and `mean`.\n",
        "* Elementwise multiplication of two matrices is called their Hadamard product. It is different from matrix multiplication.\n",
        "* In deep learning, we often work with norms such as the $L_1$ norm, the $L_2$ norm, and the Frobenius norm.\n",
        "* We can perform a variety of operations over scalars, vectors, matrices, and tensors.\n",
        "\n",
        "## Exercises\n",
        "\n",
        "1. Prove that the transpose of a matrix $\\mathbf{A}$'s transpose is $\\mathbf{A}$: $(\\mathbf{A}^\\top)^\\top = \\mathbf{A}$.\n",
        "1. Given two matrices $\\mathbf{A}$ and $\\mathbf{B}$, show that the sum of transposes is equal to the transpose of a sum: $\\mathbf{A}^\\top + \\mathbf{B}^\\top = (\\mathbf{A} + \\mathbf{B})^\\top$.\n",
        "1. Given any square matrix $\\mathbf{A}$, is $\\mathbf{A} + \\mathbf{A}^\\top$ always symmetric? Why?\n",
        "1. We defined the tensor `X` of shape (2, 3, 4) in this section. What is the output of `len(X)`?\n",
        "1. For a tensor `X` of arbitrary shape, does `len(X)` always correspond to the length of a certain axis of `X`? What is that axis?\n",
        "1. Run `A / A.sum(axis=1)` and see what happens. Can you analyze the reason?\n",
        "1. When traveling between two points in Manhattan, what is the distance that you need to cover in terms of the coordinates, i.e., in terms of avenues and streets? Can you travel diagonally?\n",
        "1. Consider a tensor with shape (2, 3, 4). What are the shapes of the summation outputs along axis 0, 1, and 2?\n",
        "1. Feed a tensor with 3 or more axes to the `linalg.norm` function and observe its output. What does this function compute for tensors of arbitrary shape?\n"
      ]
    },
    {
      "cell_type": "code",
      "source": [
        "A=tf.reshape(tf.range(24),(2,3,4))\n",
        "len(A)\n",
        "print(A)\n",
        "print(\"\\n\", tf.reduce_sum(A,axis=1))\n",
        "print(\"\\n\", tf.reduce_sum(A,axis=0))\n",
        "print(\"\\n\", tf.reduce_sum(A,axis=2))\n",
        "\n",
        "tf.norm(A, axis=0)"
      ],
      "metadata": {
        "id": "jv-K5gu8oWJd",
        "outputId": "99cfdf63-e1d6-4992-b54e-b009efe5f88b",
        "colab": {
          "base_uri": "https://localhost:8080/",
          "height": 727
        }
      },
      "execution_count": 57,
      "outputs": [
        {
          "output_type": "stream",
          "name": "stdout",
          "text": [
            "tf.Tensor(\n",
            "[[[ 0  1  2  3]\n",
            "  [ 4  5  6  7]\n",
            "  [ 8  9 10 11]]\n",
            "\n",
            " [[12 13 14 15]\n",
            "  [16 17 18 19]\n",
            "  [20 21 22 23]]], shape=(2, 3, 4), dtype=int32)\n",
            "\n",
            " tf.Tensor(\n",
            "[[12 15 18 21]\n",
            " [48 51 54 57]], shape=(2, 4), dtype=int32)\n",
            "\n",
            " tf.Tensor(\n",
            "[[12 14 16 18]\n",
            " [20 22 24 26]\n",
            " [28 30 32 34]], shape=(3, 4), dtype=int32)\n",
            "\n",
            " tf.Tensor(\n",
            "[[ 6 22 38]\n",
            " [54 70 86]], shape=(2, 3), dtype=int32)\n"
          ]
        },
        {
          "output_type": "error",
          "ename": "InvalidArgumentError",
          "evalue": "ignored",
          "traceback": [
            "\u001b[0;31m---------------------------------------------------------------------------\u001b[0m",
            "\u001b[0;31mInvalidArgumentError\u001b[0m                      Traceback (most recent call last)",
            "\u001b[0;32m<ipython-input-57-fa5027b0d748>\u001b[0m in \u001b[0;36m<module>\u001b[0;34m()\u001b[0m\n\u001b[1;32m      6\u001b[0m \u001b[0mprint\u001b[0m\u001b[0;34m(\u001b[0m\u001b[0;34m\"\\n\"\u001b[0m\u001b[0;34m,\u001b[0m \u001b[0mtf\u001b[0m\u001b[0;34m.\u001b[0m\u001b[0mreduce_sum\u001b[0m\u001b[0;34m(\u001b[0m\u001b[0mA\u001b[0m\u001b[0;34m,\u001b[0m\u001b[0maxis\u001b[0m\u001b[0;34m=\u001b[0m\u001b[0;36m2\u001b[0m\u001b[0;34m)\u001b[0m\u001b[0;34m)\u001b[0m\u001b[0;34m\u001b[0m\u001b[0;34m\u001b[0m\u001b[0m\n\u001b[1;32m      7\u001b[0m \u001b[0;34m\u001b[0m\u001b[0m\n\u001b[0;32m----> 8\u001b[0;31m \u001b[0mtf\u001b[0m\u001b[0;34m.\u001b[0m\u001b[0mnorm\u001b[0m\u001b[0;34m(\u001b[0m\u001b[0mA\u001b[0m\u001b[0;34m,\u001b[0m \u001b[0maxis\u001b[0m\u001b[0;34m=\u001b[0m\u001b[0;36m0\u001b[0m\u001b[0;34m)\u001b[0m\u001b[0;34m\u001b[0m\u001b[0;34m\u001b[0m\u001b[0m\n\u001b[0m",
            "\u001b[0;32m/usr/local/lib/python3.7/dist-packages/tensorflow/python/util/traceback_utils.py\u001b[0m in \u001b[0;36merror_handler\u001b[0;34m(*args, **kwargs)\u001b[0m\n\u001b[1;32m    151\u001b[0m     \u001b[0;32mexcept\u001b[0m \u001b[0mException\u001b[0m \u001b[0;32mas\u001b[0m \u001b[0me\u001b[0m\u001b[0;34m:\u001b[0m\u001b[0;34m\u001b[0m\u001b[0;34m\u001b[0m\u001b[0m\n\u001b[1;32m    152\u001b[0m       \u001b[0mfiltered_tb\u001b[0m \u001b[0;34m=\u001b[0m \u001b[0m_process_traceback_frames\u001b[0m\u001b[0;34m(\u001b[0m\u001b[0me\u001b[0m\u001b[0;34m.\u001b[0m\u001b[0m__traceback__\u001b[0m\u001b[0;34m)\u001b[0m\u001b[0;34m\u001b[0m\u001b[0;34m\u001b[0m\u001b[0m\n\u001b[0;32m--> 153\u001b[0;31m       \u001b[0;32mraise\u001b[0m \u001b[0me\u001b[0m\u001b[0;34m.\u001b[0m\u001b[0mwith_traceback\u001b[0m\u001b[0;34m(\u001b[0m\u001b[0mfiltered_tb\u001b[0m\u001b[0;34m)\u001b[0m \u001b[0;32mfrom\u001b[0m \u001b[0;32mNone\u001b[0m\u001b[0;34m\u001b[0m\u001b[0;34m\u001b[0m\u001b[0m\n\u001b[0m\u001b[1;32m    154\u001b[0m     \u001b[0;32mfinally\u001b[0m\u001b[0;34m:\u001b[0m\u001b[0;34m\u001b[0m\u001b[0;34m\u001b[0m\u001b[0m\n\u001b[1;32m    155\u001b[0m       \u001b[0;32mdel\u001b[0m \u001b[0mfiltered_tb\u001b[0m\u001b[0;34m\u001b[0m\u001b[0;34m\u001b[0m\u001b[0m\n",
            "\u001b[0;32m/usr/local/lib/python3.7/dist-packages/tensorflow/python/framework/ops.py\u001b[0m in \u001b[0;36mraise_from_not_ok_status\u001b[0;34m(e, name)\u001b[0m\n\u001b[1;32m   7105\u001b[0m \u001b[0;32mdef\u001b[0m \u001b[0mraise_from_not_ok_status\u001b[0m\u001b[0;34m(\u001b[0m\u001b[0me\u001b[0m\u001b[0;34m,\u001b[0m \u001b[0mname\u001b[0m\u001b[0;34m)\u001b[0m\u001b[0;34m:\u001b[0m\u001b[0;34m\u001b[0m\u001b[0;34m\u001b[0m\u001b[0m\n\u001b[1;32m   7106\u001b[0m   \u001b[0me\u001b[0m\u001b[0;34m.\u001b[0m\u001b[0mmessage\u001b[0m \u001b[0;34m+=\u001b[0m \u001b[0;34m(\u001b[0m\u001b[0;34m\" name: \"\u001b[0m \u001b[0;34m+\u001b[0m \u001b[0mname\u001b[0m \u001b[0;32mif\u001b[0m \u001b[0mname\u001b[0m \u001b[0;32mis\u001b[0m \u001b[0;32mnot\u001b[0m \u001b[0;32mNone\u001b[0m \u001b[0;32melse\u001b[0m \u001b[0;34m\"\"\u001b[0m\u001b[0;34m)\u001b[0m\u001b[0;34m\u001b[0m\u001b[0;34m\u001b[0m\u001b[0m\n\u001b[0;32m-> 7107\u001b[0;31m   \u001b[0;32mraise\u001b[0m \u001b[0mcore\u001b[0m\u001b[0;34m.\u001b[0m\u001b[0m_status_to_exception\u001b[0m\u001b[0;34m(\u001b[0m\u001b[0me\u001b[0m\u001b[0;34m)\u001b[0m \u001b[0;32mfrom\u001b[0m \u001b[0;32mNone\u001b[0m  \u001b[0;31m# pylint: disable=protected-access\u001b[0m\u001b[0;34m\u001b[0m\u001b[0;34m\u001b[0m\u001b[0m\n\u001b[0m\u001b[1;32m   7108\u001b[0m \u001b[0;34m\u001b[0m\u001b[0m\n\u001b[1;32m   7109\u001b[0m \u001b[0;34m\u001b[0m\u001b[0m\n",
            "\u001b[0;31mInvalidArgumentError\u001b[0m: Value for attr 'T' of int32 is not in the list of allowed values: bfloat16, half, float, double, complex64, complex128\n\t; NodeDef: {{node Sqrt}}; Op<name=Sqrt; signature=x:T -> y:T; attr=T:type,allowed=[DT_BFLOAT16, DT_HALF, DT_FLOAT, DT_DOUBLE, DT_COMPLEX64, DT_COMPLEX128]> [Op:Sqrt]"
          ]
        }
      ]
    },
    {
      "cell_type": "markdown",
      "metadata": {
        "origin_pos": 124,
        "tab": [
          "mxnet"
        ],
        "id": "3D-1oxsuSff5"
      },
      "source": [
        "[Discussions](https://discuss.d2l.ai/t/30)\n"
      ]
    }
  ],
  "metadata": {
    "kernelspec": {
      "display_name": "Python 3",
      "name": "python3"
    },
    "language_info": {
      "name": "python"
    },
    "colab": {
      "name": "linear-algebra.ipynb",
      "provenance": []
    }
  },
  "nbformat": 4,
  "nbformat_minor": 0
}